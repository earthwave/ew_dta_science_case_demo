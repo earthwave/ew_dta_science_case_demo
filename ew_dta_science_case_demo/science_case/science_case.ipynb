{
 "cells": [
  {
   "attachments": {},
   "cell_type": "markdown",
   "metadata": {},
   "source": [
    "# Open Science Demo"
   ]
  },
  {
   "cell_type": "code",
   "execution_count": null,
   "metadata": {},
   "outputs": [],
   "source": [
    "from datetime import datetime\n",
    "from ew_dta_science_case_demo.tools import OpenScienceDataset\n",
    "import matplotlib.pyplot as plt"
   ]
  },
  {
   "attachments": {},
   "cell_type": "markdown",
   "metadata": {},
   "source": [
    "### Datasets\n",
    "\n",
    "Datasets can be loaded using the following syntax\n",
    "```\n",
    "data = OpenScienceDataset('<short_name>')\n",
    "```\n",
    "This will load the data into an object with the attributes `data` (the data in a numpy array), `dates` (the dates the data is available for), `info` (brief information the data)\n",
    "\n",
    "The available datasets and (their short names) are:\n",
    "\n",
    "    - EOLIS monthly elevation change maps (eolis_dems)\n",
    "    - ERA5 Mean sea level pressure (mean_sea_level_pressure)\n",
    "    - ERA5 wind speed (10m_wind_speed)\n",
    "    - GREP ocean salinity (sea_water_salinity)\n",
    "    - GREP ocean potential temperature (sea_water_potential_temperature)\n",
    "    - ENVEO monthly ice velocity (ice_flow)\n",
    "    - Grounding line migration rates (grounding_line_migration_rates)\n",
    "    - Ice shelf basal melt rate (ice_shelf_basal_melt_rate)\n",
    "\n",
    "Extent..."
   ]
  },
  {
   "cell_type": "code",
   "execution_count": null,
   "metadata": {},
   "outputs": [],
   "source": [
    "# Load the data\n",
    "\n",
    "monthly_dems = OpenScienceDataset('eolis_dems')\n",
    "grounding_line_migration_rates = OpenScienceDataset('grounding_line_migration_rates')\n",
    "ice_shelf_basal_melt = OpenScienceDataset('ice_shelf_basal_melt_rate')"
   ]
  },
  {
   "cell_type": "code",
   "execution_count": null,
   "metadata": {},
   "outputs": [],
   "source": [
    "# Plot 2D\n",
    "\n",
    "min_time = datetime(2010, 6, 1)\n",
    "max_time = datetime(2019, 1, 1)\n",
    "\n",
    "min_x=-1705772.0\n",
    "max_x=-1505772.0\n",
    "min_y=-545000.0\n",
    "max_y=-245000.0\n",
    "\n",
    "extent = [min_x, max_x, min_y, max_y]\n",
    "\n",
    "fig, ax = plt.subplots(1, 1, figsize=(8, 12))\n",
    "\n",
    "ice_shelf_basal_melt.plot2d(ax, extent, min_time, max_time, colourmap='Reds', transparency=1)\n",
    "grounding_line_migration_rates.plot2d(ax, extent, min_time, max_time, colourmap='viridis', transparency=1)\n",
    "monthly_dems.plot2d(ax, extent, min_time, max_time, colourmap='RdBu', transparency=1)\n"
   ]
  },
  {
   "cell_type": "code",
   "execution_count": null,
   "metadata": {},
   "outputs": [],
   "source": [
    "from datetime import datetime\n",
    "from ew_dta_science_case_demo.tools import OpenScienceDataset\n",
    "import matplotlib.pyplot as plt\n",
    "\n",
    "sea_water_salinity = OpenScienceDataset('sea_water_salinity')\n",
    "ice_shelf_basal_melt = OpenScienceDataset('ice_shelf_basal_melt_rate')\n",
    "ice_flow = OpenScienceDataset('ice_flow') \n",
    "\n",
    "# Plot Time Series\n",
    "\n",
    "min_time = datetime(2014, 6, 1)\n",
    "max_time = datetime(2019, 1, 1)\n",
    "\n",
    "min_x=-1905772.0\n",
    "max_x=-1505772.0\n",
    "min_y=-845000.0\n",
    "max_y=-245000.0\n",
    "\n",
    "extent = [min_x, max_x, min_y, max_y]\n",
    "\n",
    "fig, ax = plt.subplots(1, 2, figsize=(16, 8))\n",
    "\n",
    "sea_water_salinity.plot_time_series(ax[0], extent, min_time, max_time)\n",
    "ice_shelf_basal_melt.plot_time_series(ax[1], extent, min_time, max_time)\n",
    "\n"
   ]
  },
  {
   "cell_type": "code",
   "execution_count": null,
   "metadata": {},
   "outputs": [],
   "source": [
    "# El Nino\n",
    "\n",
    "from datetime import datetime\n",
    "from ew_dta_science_case_demo.tools import OpenScienceDataset\n",
    "import matplotlib.pyplot as plt\n",
    "\n",
    "min_time = datetime(2014, 6, 1)\n",
    "max_time = datetime(2019, 1, 7)\n",
    "\n",
    "min_x=-1905772.0\n",
    "max_x=-1505772.0\n",
    "min_y=-845000.0\n",
    "max_y=-245000.0\n",
    "\n",
    "extent = [min_x, max_x, min_y, max_y]\n",
    "\n",
    "fig, ax = plt.subplots(1, 2, figsize=(16, 8))\n",
    "\n",
    "el_nino = OpenScienceDataset('el_nino')\n",
    "ice_shelf_basal_melt = OpenScienceDataset('ice_shelf_basal_melt_rate')\n",
    "\n",
    "el_nino.plot_time_series(ax[0], None, min_time, max_time)\n",
    "ice_shelf_basal_melt.plot_time_series(ax[1], extent, min_time, max_time)\n",
    "\n",
    "ax[0].plot([min_time, max_time], [0.5, 0.5], color='r')\n",
    "ax[0].plot([min_time, max_time], [-0.5, -0.5], color='r')"
   ]
  }
 ],
 "metadata": {
  "kernelspec": {
   "display_name": "Python 3 (ipykernel)",
   "language": "python",
   "name": "python3"
  },
  "language_info": {
   "codemirror_mode": {
    "name": "ipython",
    "version": 3
   },
   "file_extension": ".py",
   "mimetype": "text/x-python",
   "name": "python",
   "nbconvert_exporter": "python",
   "pygments_lexer": "ipython3",
   "version": "3.9.7"
  },
  "vscode": {
   "interpreter": {
    "hash": "65170ac5f1235499276020560aad0e7a292ead1bbda5d55eb48095a882c55673"
   }
  }
 },
 "nbformat": 4,
 "nbformat_minor": 4
}
