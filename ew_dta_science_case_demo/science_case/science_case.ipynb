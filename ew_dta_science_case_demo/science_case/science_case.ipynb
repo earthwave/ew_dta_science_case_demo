{
 "cells": [
  {
   "cell_type": "code",
   "execution_count": 1,
   "metadata": {},
   "outputs": [],
   "source": [
    "from ew_dta_science_case_demo.tools import OpenScienceDataset\n"
   ]
  },
  {
   "cell_type": "code",
   "execution_count": 5,
   "metadata": {},
   "outputs": [],
   "source": [
    "dems = OpenScienceDataset('eolis_dems')\n",
    "mean_sea_level_pressure = OpenScienceDataset('sea_level_pressure')\n",
    "sea_water_potential_temperature = OpenScienceDataset('sea_water_potential_temperature')\n",
    "sea_water_salinity = OpenScienceDataset('sea_water_salinity')\n",
    "ice_flow_magnitude = OpenScienceDataset('ice_flow')\n",
    "grounding_line_migration_rates = OpenScienceDataset('grounding_line_migration_rates')\n",
    "ice_shelf_basal_melt = OpenScienceDataset('ice_shelf_basal_melt_rate')"
   ]
  },
  {
   "cell_type": "code",
   "execution_count": 9,
   "metadata": {},
   "outputs": [],
   "source": [
    "dems.info\n",
    "mean_sea_level_pressure.info\n",
    "sea_water_potential_temperature.info\n",
    "sea_water_salinity.info\n",
    "ice_flow_magnitude.info\n",
    "grounding_line_migration_rates.info\n",
    "ice_shelf_basal_melt.info"
   ]
  }
 ],
 "metadata": {
  "kernelspec": {
   "display_name": "Python 3 (ipykernel)",
   "language": "python",
   "name": "python3"
  },
  "language_info": {
   "codemirror_mode": {
    "name": "ipython",
    "version": 3
   },
   "file_extension": ".py",
   "mimetype": "text/x-python",
   "name": "python",
   "nbconvert_exporter": "python",
   "pygments_lexer": "ipython3",
   "version": "3.9.7"
  },
  "vscode": {
   "interpreter": {
    "hash": "65170ac5f1235499276020560aad0e7a292ead1bbda5d55eb48095a882c55673"
   }
  }
 },
 "nbformat": 4,
 "nbformat_minor": 4
}
